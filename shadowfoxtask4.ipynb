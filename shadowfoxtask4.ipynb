{
 "cells": [
  {
   "cell_type": "code",
   "execution_count": 1,
   "metadata": {},
   "outputs": [
    {
     "name": "stdout",
     "output_type": "stream",
     "text": [
      "BMI: 22.86\n",
      "Category: Normal\n"
     ]
    }
   ],
   "source": [
    "# Function to calculate BMI and determine the category\n",
    "def calculate_bmi():\n",
    "    # Taking user input for height and weight\n",
    "    height = float(input(\"Enter height in meters: \"))\n",
    "    weight = float(input(\"Enter weight in kilograms: \"))\n",
    "    \n",
    "    # Calculating BMI using the formula\n",
    "    bmi = weight / (height ** 2)\n",
    "    \n",
    "    # Determining the BMI category\n",
    "    if bmi >= 30:\n",
    "        category = \"Obesity\"\n",
    "    elif 25 <= bmi < 30:\n",
    "        category = \"Overweight\"\n",
    "    elif 18.5 <= bmi < 25:\n",
    "        category = \"Normal\"\n",
    "    else:\n",
    "        category = \"Underweight\"\n",
    "    \n",
    "    # Printing the result\n",
    "    print(\"BMI:\", round(bmi, 2))\n",
    "    print(\"Category:\", category)\n",
    "\n",
    "# Call the function\n",
    "calculate_bmi()\n"
   ]
  },
  {
   "cell_type": "code",
   "execution_count": 6,
   "metadata": {},
   "outputs": [
    {
     "name": "stdout",
     "output_type": "stream",
     "text": [
      "Mumbai is in India\n"
     ]
    }
   ],
   "source": [
    "# Lists of cities per country\n",
    "australia = [\"Sydney\", \"Melbourne\", \"Brisbane\", \"Perth\"]\n",
    "uae = [\"Dubai\", \"Abu Dhabi\", \"Sharjah\", \"Ajman\"]\n",
    "india = [\"Mumbai\", \"Bangalore\", \"Chennai\", \"Delhi\"]\n",
    "\n",
    "# Ask the user to enter a city name\n",
    "city = input(\"Enter a city name: \").strip()\n",
    "\n",
    "# Check which country the city belongs to\n",
    "if city in australia:\n",
    "    print(f\"{city} is in Australia\")\n",
    "elif city in uae:\n",
    "    print(f\"{city} is in UAE\")\n",
    "elif city in india:\n",
    "    print(f\"{city} is in India\")\n",
    "else:\n",
    "    print(f\"Sorry, I couldn't find which country {city} belongs to.\")\n"
   ]
  },
  {
   "cell_type": "code",
   "execution_count": 5,
   "metadata": {},
   "outputs": [
    {
     "name": "stdout",
     "output_type": "stream",
     "text": [
      "Both cities are in India\n"
     ]
    }
   ],
   "source": [
    "# List of cities by country\n",
    "india = [\"Mumbai\", \"Bangalore\", \"Chennai\", \"Delhi\"]\n",
    "australia = [\"Sydney\", \"Melbourne\", \"Brisbane\", \"Perth\"]\n",
    "uae = [\"Dubai\", \"Abu Dhabi\", \"Sharjah\", \"Ajman\"]\n",
    "\n",
    "# Ask the user to enter two cities\n",
    "city1 = input(\"Enter the first city: \").strip()\n",
    "city2 = input(\"Enter the second city: \").strip()\n",
    "\n",
    "# Check if both cities are in the same country\n",
    "if city1 in india and city2 in india:\n",
    "    print(f\"Both cities are in India\")\n",
    "elif city1 in australia and city2 in australia:\n",
    "    print(f\"Both cities are in Australia\")\n",
    "elif city1 in uae and city2 in uae:\n",
    "    print(f\"Both cities are in UAE\")\n",
    "else:\n",
    "    print(f\"They don't belong to the same country\")\n"
   ]
  }
 ],
 "metadata": {
  "kernelspec": {
   "display_name": "Python 3",
   "language": "python",
   "name": "python3"
  },
  "language_info": {
   "codemirror_mode": {
    "name": "ipython",
    "version": 3
   },
   "file_extension": ".py",
   "mimetype": "text/x-python",
   "name": "python",
   "nbconvert_exporter": "python",
   "pygments_lexer": "ipython3",
   "version": "3.12.6"
  }
 },
 "nbformat": 4,
 "nbformat_minor": 2
}
