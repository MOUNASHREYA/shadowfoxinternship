{
 "cells": [
  {
   "cell_type": "code",
   "execution_count": 3,
   "metadata": {},
   "outputs": [
    {
     "name": "stdout",
     "output_type": "stream",
     "text": [
      "All rolls: [6, 6, 2, 4, 4, 4, 4, 4, 4, 4, 3, 1, 1, 4, 1, 6, 4, 4, 6, 3]\n",
      "Number of times a 6 was rolled: 4\n",
      "Number of times a 1 was rolled: 3\n",
      "Number of times two 6s were rolled in a row: 1\n"
     ]
    }
   ],
   "source": [
    "import random\n",
    "\n",
    "# Initialize variables for statistics\n",
    "roll_count = 20  # Number of rolls (you can adjust this as needed)\n",
    "rolls = []\n",
    "count_six = 0\n",
    "count_one = 0\n",
    "count_two_sixes_in_a_row = 0\n",
    "\n",
    "# Simulating die rolls\n",
    "previous_roll = 0  # To keep track of the previous roll\n",
    "for _ in range(roll_count):\n",
    "    current_roll = random.randint(1, 6)  # Roll the die (generates a number between 1 and 6)\n",
    "    rolls.append(current_roll)  # Store the roll for reference\n",
    "\n",
    "    # Count how many times we rolled a 6\n",
    "    if current_roll == 6:\n",
    "        count_six += 1\n",
    "\n",
    "    # Count how many times we rolled a 1\n",
    "    if current_roll == 1:\n",
    "        count_one += 1\n",
    "\n",
    "    # Count how many times two 6s were rolled in a row\n",
    "    if previous_roll == 6 and current_roll == 6:\n",
    "        count_two_sixes_in_a_row += 1\n",
    "\n",
    "    # Update previous roll\n",
    "    previous_roll = current_roll\n",
    "\n",
    "# Print results\n",
    "print(\"All rolls:\", rolls)\n",
    "print(\"Number of times a 6 was rolled:\", count_six)\n",
    "print(\"Number of times a 1 was rolled:\", count_one)\n",
    "print(\"Number of times two 6s were rolled in a row:\", count_two_sixes_in_a_row)\n"
   ]
  },
  {
   "cell_type": "code",
   "execution_count": 4,
   "metadata": {},
   "outputs": [
    {
     "name": "stdout",
     "output_type": "stream",
     "text": [
      "Set 1: You performed 10 jumping jacks.\n",
      "90 jumping jacks are remaining.\n",
      "Set 2: You performed 10 jumping jacks.\n",
      "You completed a total of 20 jumping jacks.\n"
     ]
    }
   ],
   "source": [
    "# Program to simulate the workout routine\n",
    "def workout_routine():\n",
    "    total_jumping_jacks = 100\n",
    "    performed_jumping_jacks = 0\n",
    "    set_size = 10\n",
    "\n",
    "    for set_num in range(1, total_jumping_jacks // set_size + 1):\n",
    "        # Perform a set of 10 jumping jacks\n",
    "        performed_jumping_jacks += set_size\n",
    "        print(f\"Set {set_num}: You performed {set_size} jumping jacks.\")\n",
    "        \n",
    "        # Ask if the user is tired\n",
    "        tired = input(\"Are you tired? (yes/y or no/n): \").strip().lower()\n",
    "        \n",
    "        if tired in [\"yes\", \"y\"]:\n",
    "            # Ask if the user wants to skip the remaining sets\n",
    "            skip = input(\"Do you want to skip the remaining sets? (yes/y or no/n): \").strip().lower()\n",
    "            if skip in [\"yes\", \"y\"]:\n",
    "                print(f\"You completed a total of {performed_jumping_jacks} jumping jacks.\")\n",
    "                break\n",
    "        elif tired in [\"no\", \"n\"]:\n",
    "            remaining_jumping_jacks = total_jumping_jacks - performed_jumping_jacks\n",
    "            print(f\"{remaining_jumping_jacks} jumping jacks are remaining.\")\n",
    "        else:\n",
    "            print(\"Invalid input. Continuing the workout.\")\n",
    "\n",
    "    # If all jumping jacks are completed\n",
    "    if performed_jumping_jacks == total_jumping_jacks:\n",
    "        print(\"Congratulations! You completed the workout.\")\n",
    "\n",
    "# Run the workout routine\n",
    "workout_routine()\n"
   ]
  }
 ],
 "metadata": {
  "kernelspec": {
   "display_name": "Python 3",
   "language": "python",
   "name": "python3"
  },
  "language_info": {
   "codemirror_mode": {
    "name": "ipython",
    "version": 3
   },
   "file_extension": ".py",
   "mimetype": "text/x-python",
   "name": "python",
   "nbconvert_exporter": "python",
   "pygments_lexer": "ipython3",
   "version": "3.12.6"
  }
 },
 "nbformat": 4,
 "nbformat_minor": 2
}
