{
 "cells": [
  {
   "cell_type": "code",
   "execution_count": 1,
   "metadata": {},
   "outputs": [
    {
     "name": "stdout",
     "output_type": "stream",
     "text": [
      "Value of pi: 3.142857142857143\n",
      "Data type of pi: <class 'float'>\n"
     ]
    }
   ],
   "source": [
    "# Assigning the value of 22/7 to the variable 'pi'\n",
    "pi = 22 / 7\n",
    "\n",
    "# Printing the value of 'pi'\n",
    "print(\"Value of pi:\", pi)\n",
    "\n",
    "# Checking and printing the data type of 'pi'\n",
    "print(\"Data type of pi:\", type(pi))\n"
   ]
  },
  {
   "cell_type": "code",
   "execution_count": 2,
   "metadata": {},
   "outputs": [
    {
     "ename": "SyntaxError",
     "evalue": "invalid syntax (3943449931.py, line 1)",
     "output_type": "error",
     "traceback": [
      "  \u001b[36mCell\u001b[39m\u001b[36m \u001b[39m\u001b[32mIn[2]\u001b[39m\u001b[32m, line 1\u001b[39m\n\u001b[31m    \u001b[39m\u001b[31mfor = 4\u001b[39m\n        ^\n\u001b[31mSyntaxError\u001b[39m\u001b[31m:\u001b[39m invalid syntax\n"
     ]
    }
   ],
   "source": [
    "for = 4\n",
    "# it shows an error because for is a reserved keyword"
   ]
  },
  {
   "cell_type": "code",
   "execution_count": 3,
   "metadata": {},
   "outputs": [
    {
     "name": "stdout",
     "output_type": "stream",
     "text": [
      "The Simple Interest for 3 years is: 1500.0\n"
     ]
    }
   ],
   "source": [
    "# Storing the principal amount, rate of interest, and time in variables\n",
    "principal = 10000  # Example principal amount\n",
    "rate_of_interest = 5  # Example rate of interest (in % per year)\n",
    "time = 3  # Time in years\n",
    "\n",
    "# Calculating Simple Interest\n",
    "simple_interest = (principal * rate_of_interest * time) / 100\n",
    "\n",
    "# Displaying the result\n",
    "print(\"The Simple Interest for\", time, \"years is:\", simple_interest)\n"
   ]
  }
 ],
 "metadata": {
  "kernelspec": {
   "display_name": "Python 3",
   "language": "python",
   "name": "python3"
  },
  "language_info": {
   "codemirror_mode": {
    "name": "ipython",
    "version": 3
   },
   "file_extension": ".py",
   "mimetype": "text/x-python",
   "name": "python",
   "nbconvert_exporter": "python",
   "pygments_lexer": "ipython3",
   "version": "3.12.6"
  }
 },
 "nbformat": 4,
 "nbformat_minor": 2
}
