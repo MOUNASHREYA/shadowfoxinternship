{
 "cells": [
  {
   "cell_type": "code",
   "execution_count": 1,
   "metadata": {},
   "outputs": [
    {
     "name": "stdout",
     "output_type": "stream",
     "text": [
      "Number of members: 6\n",
      "After adding Batgirl and Nightwing: ['Superman', 'Batman', 'Wonder Woman', 'Flash', 'Aquaman', 'Green Lantern', 'Batgirl', 'Nightwing']\n",
      "After making Wonder Woman the leader: ['Wonder Woman', 'Superman', 'Batman', 'Flash', 'Aquaman', 'Green Lantern', 'Batgirl', 'Nightwing']\n",
      "After separating Aquaman and Flash: ['Wonder Woman', 'Superman', 'Batman', 'Flash', 'Aquaman', 'Green Lantern', 'Batgirl', 'Nightwing']\n",
      "After replacing with a new team: ['Cyborg', 'Shazam', 'Hawkgirl', 'Martian Manhunter', 'Green Arrow']\n",
      "After sorting alphabetically: ['Cyborg', 'Green Arrow', 'Hawkgirl', 'Martian Manhunter', 'Shazam']\n",
      "The new leader is: Cyborg\n"
     ]
    }
   ],
   "source": [
    "# Initial list of Justice League members\n",
    "justice_league = [\"Superman\", \"Batman\", \"Wonder Woman\", \"Flash\", \"Aquaman\", \"Green Lantern\"]\n",
    "\n",
    "# 1. Calculate the number of members in the Justice League\n",
    "print(\"Number of members:\", len(justice_league))\n",
    "\n",
    "# 2. Add Batgirl and Nightwing to the list\n",
    "justice_league.extend([\"Batgirl\", \"Nightwing\"])\n",
    "print(\"After adding Batgirl and Nightwing:\", justice_league)\n",
    "\n",
    "# 3. Move Wonder Woman to the beginning of the list\n",
    "justice_league.remove(\"Wonder Woman\")\n",
    "justice_league.insert(0, \"Wonder Woman\")\n",
    "print(\"After making Wonder Woman the leader:\", justice_league)\n",
    "\n",
    "# 4. Separate Aquaman and Flash by moving Green Lantern in between them\n",
    "justice_league.remove(\"Green Lantern\")\n",
    "aquaman_index = justice_league.index(\"Aquaman\")\n",
    "justice_league.insert(aquaman_index + 1, \"Green Lantern\")\n",
    "print(\"After separating Aquaman and Flash:\", justice_league)\n",
    "\n",
    "# 5. Replace the existing list with new members\n",
    "justice_league = [\"Cyborg\", \"Shazam\", \"Hawkgirl\", \"Martian Manhunter\", \"Green Arrow\"]\n",
    "print(\"After replacing with a new team:\", justice_league)\n",
    "\n",
    "# 6. Sort the Justice League alphabetically and determine the new leader\n",
    "justice_league.sort()\n",
    "print(\"After sorting alphabetically:\", justice_league)\n",
    "print(\"The new leader is:\", justice_league[0])  # Hero at the 0th index\n"
   ]
  }
 ],
 "metadata": {
  "kernelspec": {
   "display_name": "Python 3",
   "language": "python",
   "name": "python3"
  },
  "language_info": {
   "codemirror_mode": {
    "name": "ipython",
    "version": 3
   },
   "file_extension": ".py",
   "mimetype": "text/x-python",
   "name": "python",
   "nbconvert_exporter": "python",
   "pygments_lexer": "ipython3",
   "version": "3.12.6"
  }
 },
 "nbformat": 4,
 "nbformat_minor": 2
}
