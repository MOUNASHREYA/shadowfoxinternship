{
 "cells": [
  {
   "cell_type": "code",
   "execution_count": 2,
   "metadata": {},
   "outputs": [
    {
     "name": "stdout",
     "output_type": "stream",
     "text": [
      "Formatted result: 221\n"
     ]
    }
   ],
   "source": [
    "def format_example(number, representation):\n",
    "    # Using the format function to create a formatted string\n",
    "    formatted_string = \"{0:{1}}\".format(number, representation)\n",
    "    return formatted_string\n",
    "\n",
    "# Calling the function with arguments 145 and 'o'\n",
    "result = format_example(145, 'o')\n",
    "\n",
    "# Printing the result\n",
    "print(\"Formatted result:\", result)\n"
   ]
  },
  {
   "cell_type": "code",
   "execution_count": 3,
   "metadata": {},
   "outputs": [
    {
     "name": "stdout",
     "output_type": "stream",
     "text": [
      "Area of the pond: 22155.84\n",
      "Total amount of water in the pond: 31018 liters\n"
     ]
    }
   ],
   "source": [
    "# Radius of the pond\n",
    "radius = 84\n",
    "\n",
    "# Value of π\n",
    "pi = 3.14\n",
    "\n",
    "# Calculating the area of the circular pond\n",
    "pond_area = pi * (radius ** 2)\n",
    "\n",
    "# Water per square meter\n",
    "water_per_square_meter = 1.4\n",
    "\n",
    "# Calculating the total amount of water in the pond\n",
    "total_water = int(pond_area * water_per_square_meter)  # Using int() to remove decimals\n",
    "\n",
    "# Printing the results\n",
    "print(\"Area of the pond:\", pond_area)\n",
    "print(\"Total amount of water in the pond:\", total_water, \"liters\")\n"
   ]
  },
  {
   "cell_type": "code",
   "execution_count": 4,
   "metadata": {},
   "outputs": [
    {
     "name": "stdout",
     "output_type": "stream",
     "text": [
      "Your speed is: 1 meters per second\n"
     ]
    }
   ],
   "source": [
    "# Distance in meters\n",
    "distance = 490\n",
    "\n",
    "# Time in minutes converted to seconds (7 minutes = 7 * 60 seconds)\n",
    "time = 7 * 60\n",
    "\n",
    "# Calculating speed\n",
    "speed = int(distance / time)  # Using int() to remove decimals\n",
    "\n",
    "# Printing the result\n",
    "print(\"Your speed is:\", speed, \"meters per second\")\n"
   ]
  }
 ],
 "metadata": {
  "kernelspec": {
   "display_name": "Python 3",
   "language": "python",
   "name": "python3"
  },
  "language_info": {
   "codemirror_mode": {
    "name": "ipython",
    "version": 3
   },
   "file_extension": ".py",
   "mimetype": "text/x-python",
   "name": "python",
   "nbconvert_exporter": "python",
   "pygments_lexer": "ipython3",
   "version": "3.12.6"
  }
 },
 "nbformat": 4,
 "nbformat_minor": 2
}
